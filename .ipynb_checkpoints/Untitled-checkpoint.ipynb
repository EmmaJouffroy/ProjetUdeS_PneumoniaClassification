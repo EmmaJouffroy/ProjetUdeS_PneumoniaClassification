{
 "cells": [
  {
   "cell_type": "code",
   "execution_count": 6,
   "metadata": {
    "scrolled": false
   },
   "outputs": [
    {
     "ename": "SyntaxError",
     "evalue": "invalid syntax (<ipython-input-6-885aba2f2bdc>, line 30)",
     "output_type": "error",
     "traceback": [
      "\u001b[1;36m  File \u001b[1;32m\"<ipython-input-6-885aba2f2bdc>\"\u001b[1;36m, line \u001b[1;32m30\u001b[0m\n\u001b[1;33m    Confusion matrix\u001b[0m\n\u001b[1;37m                   ^\u001b[0m\n\u001b[1;31mSyntaxError\u001b[0m\u001b[1;31m:\u001b[0m invalid syntax\n"
     ]
    }
   ],
   "source": [
    "\n",
    "\n",
    "\n",
    "\n",
    "from models.svm import Svm\n",
    "from models.classifier import Classifier\n",
    "from get_data.get_dataset import *\n",
    "import os\n",
    "from sklearn.svm import SVC\n",
    "import numpy as np\n",
    "import matplotlib.pyplot as plt\n",
    "from glob import glob\n",
    "from sklearn.metrics import classification_report, confusion_matrix\n",
    "\n",
    "\n",
    "\n",
    "\n",
    "\n",
    "X_train = training_set.drop('class',axis=1)\n",
    "Y_train = training_set['class']\n",
    "\n",
    "Y_train = np.where(Y_train > 0, 1, Y_train)\n",
    "Y_train = np.where(Y_train < 0, 0, Y_train)\n",
    "\n",
    "X_test = test_set.drop('class', axis=1)\n",
    "Y_test = test_set['class']\n",
    "Y_test = np.where(Y_test > 0, 1, Y_test)\n",
    "Y_test = np.where(Y_test < 0, 0, Y_test)\n",
    "\n",
    "svmobject = Svm(hyperparams=0)\n",
    "modelsvm = svmobject.train(X_train, Y_train)\n",
    "prediction = svmobject.predictsvm(modelsvm, X_test)\n",
    "\n",
    "Confusion matrix\n",
    "\n",
    "print(confusion_matrix(Y_test, prediction))\n",
    "\n",
    "stats\n",
    "\n",
    "print(classification_report(Y_test, prediction))"
   ]
  },
  {
   "cell_type": "code",
   "execution_count": null,
   "metadata": {},
   "outputs": [],
   "source": []
  },
  {
   "cell_type": "code",
   "execution_count": null,
   "metadata": {},
   "outputs": [],
   "source": []
  },
  {
   "cell_type": "code",
   "execution_count": null,
   "metadata": {},
   "outputs": [],
   "source": []
  }
 ],
 "metadata": {
  "kernelspec": {
   "display_name": "Python 3",
   "language": "python",
   "name": "python3"
  },
  "language_info": {
   "codemirror_mode": {
    "name": "ipython",
    "version": 3
   },
   "file_extension": ".py",
   "mimetype": "text/x-python",
   "name": "python",
   "nbconvert_exporter": "python",
   "pygments_lexer": "ipython3",
   "version": "3.7.5"
  }
 },
 "nbformat": 4,
 "nbformat_minor": 2
}
